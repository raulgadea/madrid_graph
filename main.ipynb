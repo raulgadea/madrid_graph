{
 "cells": [
  {
   "cell_type": "markdown",
   "source": [
    "# Madrid graph creator"
   ],
   "metadata": {
    "collapsed": false,
    "pycharm": {
     "name": "#%% md\n"
    }
   }
  },
  {
   "cell_type": "code",
   "execution_count": null,
   "outputs": [],
   "source": [
    "from traffic import *\n",
    "from main import PATHS"
   ],
   "metadata": {
    "collapsed": false,
    "pycharm": {
     "name": "#%%\n"
    }
   }
  },
  {
   "cell_type": "markdown",
   "source": [
    "## Data processing"
   ],
   "metadata": {
    "collapsed": false,
    "pycharm": {
     "name": "#%% md\n"
    }
   }
  },
  {
   "cell_type": "code",
   "execution_count": null,
   "outputs": [],
   "source": [
    "year_list = ['2021', '2022']"
   ],
   "metadata": {
    "collapsed": false,
    "pycharm": {
     "name": "#%%\n"
    }
   }
  },
  {
   "cell_type": "code",
   "execution_count": null,
   "outputs": [],
   "source": [
    "historic_l1 = create_traffic_historic_l1(read_path=PATHS['historic']['l0'], save_path=PATHS['historic']['l1'],\n",
    "                                         year_list=year_list)\n",
    "historic_l1.head(10)"
   ],
   "metadata": {
    "collapsed": false,
    "pycharm": {
     "name": "#%%\n"
    }
   }
  },
  {
   "cell_type": "code",
   "execution_count": null,
   "outputs": [],
   "source": [
    "position_l1 = create_traffic_position_l1(read_path=PATHS['position']['l0'], save_path=PATHS['position']['l1'],\n",
    "                                         year_list=year_list)\n",
    "position_l1.head(10)"
   ],
   "metadata": {
    "collapsed": false,
    "pycharm": {
     "name": "#%%\n"
    }
   }
  },
  {
   "cell_type": "code",
   "execution_count": null,
   "outputs": [],
   "source": [
    "historic_l2 = create_traffic_historic_l2(read_path=PATHS['historic']['l1'], save_path=PATHS['historic']['l2'])\n",
    "historic_l2.head(10)"
   ],
   "metadata": {
    "collapsed": false,
    "pycharm": {
     "name": "#%%\n"
    }
   }
  },
  {
   "cell_type": "code",
   "execution_count": null,
   "outputs": [],
   "source": [
    "position_l2 = create_traffic_position_l2(read_path=PATHS['position']['l0'], save_path=PATHS['position']['l1'])\n",
    "position_l2.head(10)"
   ],
   "metadata": {
    "collapsed": false,
    "pycharm": {
     "name": "#%%\n"
    }
   }
  },
  {
   "cell_type": "code",
   "execution_count": null,
   "outputs": [],
   "source": [
    "historic_lf, position_lf = create_traffic_lf(position_read_path=PATHS['position']['l2'],\n",
    "                                             historic_read_path=PATHS['historic']['l2'],\n",
    "                                             position_save_path=PATHS['position']['lf'],\n",
    "                                             historic_save_path=PATHS['historic']['lf'], agg_hour=False)"
   ],
   "metadata": {
    "collapsed": false,
    "pycharm": {
     "name": "#%%\n"
    }
   }
  },
  {
   "cell_type": "code",
   "execution_count": null,
   "outputs": [],
   "source": [
    "historic_lf.head(10)"
   ],
   "metadata": {
    "collapsed": false,
    "pycharm": {
     "name": "#%%\n"
    }
   }
  },
  {
   "cell_type": "code",
   "execution_count": null,
   "outputs": [],
   "source": [
    "position_lf.head(10)"
   ],
   "metadata": {
    "collapsed": false,
    "pycharm": {
     "name": "#%%\n"
    }
   }
  },
  {
   "cell_type": "markdown",
   "source": [
    "## M30 Dataset"
   ],
   "metadata": {
    "collapsed": false,
    "pycharm": {
     "name": "#%% md\n"
    }
   }
  },
  {
   "cell_type": "code",
   "execution_count": null,
   "outputs": [],
   "source": [
    "historic_lf = load_data(path=PATHS['historic']['lf'], dask=True)"
   ],
   "metadata": {
    "collapsed": false,
    "pycharm": {
     "name": "#%%\n"
    }
   }
  },
  {
   "cell_type": "code",
   "execution_count": null,
   "outputs": [],
   "source": [
    "m30_nodes = list(historic_lf[historic_lf.tipo_elem == 'M30'].id.unique())"
   ],
   "metadata": {
    "collapsed": false,
    "pycharm": {
     "name": "#%%\n"
    }
   }
  },
  {
   "cell_type": "code",
   "execution_count": null,
   "outputs": [],
   "source": [
    "start_time = '01/01/2022'\n",
    "end_time = '01/02/2022'\n",
    "s = DataImputation(origin_path=PATHS['historic']['lf'], start_time=start_time, end_time=end_time, nodes=m30_nodes)\n",
    "s.save(PATHS['historic']['m30'])"
   ],
   "metadata": {
    "collapsed": false,
    "pycharm": {
     "name": "#%%\n"
    }
   }
  },
  {
   "cell_type": "code",
   "execution_count": null,
   "outputs": [],
   "source": [
    "position_path_f = '../data/traffic/position/lf'\n",
    "position_path_c = '../data/traffic/position/lc'\n",
    "graph_path = '../data/traffic/graph/graph_full.csv'\n",
    "adjacency_path = r'C:\\Users\\gaade\\rgadea2021EMT\\data\\traffic\\graph\\adjacency_matrix\\m30_speed\\adjacency_3.csv'\n",
    "dist_path = '../data/traffic/graph/distance_matrix'\n",
    "traffic_dir_path = '../data/traffic/historic/lc_15'"
   ],
   "metadata": {
    "collapsed": false,
    "pycharm": {
     "name": "#%%\n"
    }
   }
  },
  {
   "cell_type": "code",
   "execution_count": null,
   "outputs": [],
   "source": [
    "m30_nodes = list(historic_lf[historic_lf.tipo_elem == 'M30'].id.unique())\n",
    "start_time = '01/01/2022'\n",
    "end_time = '01/02/2022'\n",
    "s = DataImputation(origin_path=PATHS['historic']['lf'], start_time=start_time, end_time=end_time, nodes=m30_nodes,\n",
    "                   per=0.7)\n",
    "s.save(PATHS['historic']['m30'])\n",
    "create_traffic_position(position_read_path=PATHS['position']['lf'], historic_read_path=PATHS['historic']['m30'],\n",
    "                        position_save_path=PATHS['position']['m30'])"
   ],
   "metadata": {
    "collapsed": false,
    "pycharm": {
     "name": "#%%\n"
    }
   }
  },
  {
   "cell_type": "markdown",
   "source": [
    "## M30 Graph"
   ],
   "metadata": {
    "collapsed": false,
    "pycharm": {
     "name": "#%% md\n"
    }
   }
  },
  {
   "cell_type": "code",
   "execution_count": null,
   "outputs": [],
   "source": [
    "dmc = DistanceMatrixCreator(position_path=PATHS['position']['m30'], neighbours=10)"
   ],
   "metadata": {
    "collapsed": false,
    "pycharm": {
     "name": "#%%\n"
    }
   }
  },
  {
   "cell_type": "code",
   "execution_count": null,
   "outputs": [],
   "source": [
    "dmc.save_node_distance(graph_path=PATHS['graph']['dist'])"
   ],
   "metadata": {
    "collapsed": false,
    "pycharm": {
     "name": "#%%\n"
    }
   }
  },
  {
   "cell_type": "code",
   "execution_count": null,
   "outputs": [],
   "source": [
    "graph = GraphCreator(distance_matrix_path=PATHS['graph']['dist'], max_connections=3)"
   ],
   "metadata": {
    "collapsed": false,
    "pycharm": {
     "name": "#%%\n"
    }
   }
  },
  {
   "cell_type": "code",
   "execution_count": null,
   "outputs": [],
   "source": [
    "graph.save_weighted_adjacency_matrix(adjacency_path=PATHS['graph']['adj'])"
   ],
   "metadata": {
    "collapsed": false,
    "pycharm": {
     "name": "#%%\n"
    }
   }
  },
  {
   "cell_type": "code",
   "execution_count": null,
   "outputs": [],
   "source": [
    "graph_sim = GraphCreator(distance_matrix_path=PATHS['graph']['dist'], sim=True, max_connections=3)\n",
    "graph_sim.save_weighted_adjacency_matrix(adjacency_path=PATHS['graph']['adj'])"
   ],
   "metadata": {
    "collapsed": false,
    "pycharm": {
     "name": "#%%\n"
    }
   }
  }
 ],
 "metadata": {
  "kernelspec": {
   "display_name": "Python 3 (ipykernel)",
   "language": "python",
   "name": "python3"
  },
  "language_info": {
   "codemirror_mode": {
    "name": "ipython",
    "version": 3
   },
   "file_extension": ".py",
   "mimetype": "text/x-python",
   "name": "python",
   "nbconvert_exporter": "python",
   "pygments_lexer": "ipython3",
   "version": "3.9.7"
  }
 },
 "nbformat": 4,
 "nbformat_minor": 4
}